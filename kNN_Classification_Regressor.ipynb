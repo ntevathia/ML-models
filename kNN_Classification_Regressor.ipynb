{
 "cells": [
  {
   "cell_type": "markdown",
   "metadata": {},
   "source": [
    "### k-Nearest Neighbors Algorithm"
   ]
  },
  {
   "cell_type": "markdown",
   "metadata": {},
   "source": [
    "- k-NN algorithm searches for k-nearest neighbors and returns the most similar instance as the prediction. \n",
    "- Model for k-NN is the entire training dataset."
   ]
  },
  {
   "cell_type": "markdown",
   "metadata": {},
   "source": [
    "k-NN comes in two forms : Classification and Regression\n",
    "- Regression: prediction is the average of the k-nearest attribute.\n",
    "- Classification: prediction is the most prevalent class."
   ]
  },
  {
   "cell_type": "markdown",
   "metadata": {},
   "source": [
    "**Supervised:** Uses labeled training data. <br>\n",
    "**Instance based:** KNN models the problem using data instances in order to make predictive decisions. <br>\n",
    "**Competitive learning** : Data instances compete to be most similar to a given unseen data instance and contribute to a prediction. <br>\n",
    "**Non-parametric or non-linear:** It does not assume anything about the data or a functional form of the data.<br>\n",
    "**Lazy learning** : It is lazy because it only builds a model during the time of prediction. <br>\n",
    "\n",
    "\n",
    "One of the advantage of lazy learning characteristic is that it includes data relevant to the unseen data, called a localized model. But it's computationally expensive as it repeats the same search multiple times over the entire training data.<br>\n"
   ]
  },
  {
   "cell_type": "markdown",
   "metadata": {},
   "source": [
    "## 1. k-NN Classifier\n",
    "\n",
    "### Modeling steps:\n",
    "- Get labeled data.\n",
    "- Split the data into training and testing dataset.\n",
    "- Choose k ( number of nearest neighbors)\n",
    "- Calculate distance between new instance and every data point from the training dataset and fetch the nearest k data points. Here, we are working with euclidean distance to find the similar data points.\n",
    "- Return the majority of the k-nearest class as prediction.\n",
    "- Check for accuracy using the testing data."
   ]
  },
  {
   "cell_type": "markdown",
   "metadata": {},
   "source": [
    "### Load the data\n",
    "For this problem we are going to work with the Iris dataset."
   ]
  },
  {
   "cell_type": "code",
   "execution_count": 95,
   "metadata": {},
   "outputs": [],
   "source": [
    "import pandas as pd\n",
    "import numpy as np\n",
    "from collections import Counter\n",
    "from sklearn.metrics import accuracy_score\n",
    "from sklearn.preprocessing import StandardScaler, MinMaxScaler \n",
    "from sklearn.neighbors import KNeighborsClassifier, KNeighborsRegressor\n",
    "from sklearn.model_selection import train_test_split\n",
    "import matplotlib.pyplot as plt"
   ]
  },
  {
   "cell_type": "code",
   "execution_count": 2,
   "metadata": {},
   "outputs": [],
   "source": [
    "from sklearn.datasets import load_iris\n",
    "data = load_iris()"
   ]
  },
  {
   "cell_type": "code",
   "execution_count": 3,
   "metadata": {},
   "outputs": [],
   "source": [
    "# Description about the data\n",
    "# print(data.DESCR)"
   ]
  },
  {
   "cell_type": "code",
   "execution_count": 4,
   "metadata": {},
   "outputs": [
    {
     "data": {
      "text/html": [
       "<div>\n",
       "<style scoped>\n",
       "    .dataframe tbody tr th:only-of-type {\n",
       "        vertical-align: middle;\n",
       "    }\n",
       "\n",
       "    .dataframe tbody tr th {\n",
       "        vertical-align: top;\n",
       "    }\n",
       "\n",
       "    .dataframe thead th {\n",
       "        text-align: right;\n",
       "    }\n",
       "</style>\n",
       "<table border=\"1\" class=\"dataframe\">\n",
       "  <thead>\n",
       "    <tr style=\"text-align: right;\">\n",
       "      <th></th>\n",
       "      <th>sepal_len</th>\n",
       "      <th>sepal_wid</th>\n",
       "      <th>petal_len</th>\n",
       "      <th>petal_wid</th>\n",
       "      <th>target</th>\n",
       "    </tr>\n",
       "  </thead>\n",
       "  <tbody>\n",
       "    <tr>\n",
       "      <th>0</th>\n",
       "      <td>5.1</td>\n",
       "      <td>3.5</td>\n",
       "      <td>1.4</td>\n",
       "      <td>0.2</td>\n",
       "      <td>setosa</td>\n",
       "    </tr>\n",
       "    <tr>\n",
       "      <th>1</th>\n",
       "      <td>4.9</td>\n",
       "      <td>3.0</td>\n",
       "      <td>1.4</td>\n",
       "      <td>0.2</td>\n",
       "      <td>setosa</td>\n",
       "    </tr>\n",
       "    <tr>\n",
       "      <th>2</th>\n",
       "      <td>4.7</td>\n",
       "      <td>3.2</td>\n",
       "      <td>1.3</td>\n",
       "      <td>0.2</td>\n",
       "      <td>setosa</td>\n",
       "    </tr>\n",
       "    <tr>\n",
       "      <th>3</th>\n",
       "      <td>4.6</td>\n",
       "      <td>3.1</td>\n",
       "      <td>1.5</td>\n",
       "      <td>0.2</td>\n",
       "      <td>setosa</td>\n",
       "    </tr>\n",
       "    <tr>\n",
       "      <th>4</th>\n",
       "      <td>5.0</td>\n",
       "      <td>3.6</td>\n",
       "      <td>1.4</td>\n",
       "      <td>0.2</td>\n",
       "      <td>setosa</td>\n",
       "    </tr>\n",
       "  </tbody>\n",
       "</table>\n",
       "</div>"
      ],
      "text/plain": [
       "   sepal_len  sepal_wid  petal_len  petal_wid  target\n",
       "0        5.1        3.5        1.4        0.2  setosa\n",
       "1        4.9        3.0        1.4        0.2  setosa\n",
       "2        4.7        3.2        1.3        0.2  setosa\n",
       "3        4.6        3.1        1.5        0.2  setosa\n",
       "4        5.0        3.6        1.4        0.2  setosa"
      ]
     },
     "execution_count": 4,
     "metadata": {},
     "output_type": "execute_result"
    }
   ],
   "source": [
    "column_names = [\"sepal_len\",\"sepal_wid\",\"petal_len\",\"petal_wid\"]\n",
    "iris_df = pd.DataFrame(data.data,columns=column_names)\n",
    "iris_df = iris_df.assign(target=list(data.target_names[data.target]))\n",
    "iris_df.head()"
   ]
  },
  {
   "cell_type": "markdown",
   "metadata": {},
   "source": [
    "### Train and test split"
   ]
  },
  {
   "cell_type": "code",
   "execution_count": 5,
   "metadata": {},
   "outputs": [],
   "source": [
    "# split the data in the ratio of 70:30\n",
    "\n",
    "X = np.array(iris_df.loc[:,column_names])\n",
    "y = np.array(iris_df.target)\n",
    "X_train, X_test, y_train, y_test = train_test_split(X, y, test_size=0.3, random_state=42)"
   ]
  },
  {
   "cell_type": "code",
   "execution_count": 6,
   "metadata": {
    "scrolled": true
   },
   "outputs": [
    {
     "data": {
      "text/plain": [
       "array([[5.5, 2.4, 3.7, 1. ],\n",
       "       [6.3, 2.8, 5.1, 1.5],\n",
       "       [6.4, 3.1, 5.5, 1.8],\n",
       "       [6.6, 3. , 4.4, 1.4],\n",
       "       [7.2, 3.6, 6.1, 2.5]])"
      ]
     },
     "execution_count": 6,
     "metadata": {},
     "output_type": "execute_result"
    }
   ],
   "source": [
    "X_train[:5,]"
   ]
  },
  {
   "cell_type": "markdown",
   "metadata": {},
   "source": [
    "**Feature Scaling**: If we want all features to contribute equally and no single feature to influence our prediction, we must do feature scaling. Most common ways of feature scaling is resacling the features with mean of 0 and standard deviation of 1 using **StandardScaler**, or using **MinMaxScaler** which transforms features by scaling each feature to a given range. Feature scaling is done on both training and testing dataset."
   ]
  },
  {
   "cell_type": "code",
   "execution_count": 7,
   "metadata": {},
   "outputs": [],
   "source": [
    "#mms = MinMaxScaler()\n",
    "# OR\n",
    "ss = StandardScaler()\n",
    "X_train = ss.fit_transform(X_train)\n",
    "X_test = ss.transform(X_test)"
   ]
  },
  {
   "cell_type": "markdown",
   "metadata": {},
   "source": [
    "### Get k nearest neighbors"
   ]
  },
  {
   "cell_type": "code",
   "execution_count": 8,
   "metadata": {},
   "outputs": [],
   "source": [
    "def euclidean_distance(row1, row2):\n",
    "    return np.sqrt(np.sum((row1-row2)**2))"
   ]
  },
  {
   "cell_type": "code",
   "execution_count": 9,
   "metadata": {},
   "outputs": [],
   "source": [
    "def get_neighbors(train, test_instance, neighbors):\n",
    "    \n",
    "    # calculate distance between each pair of test_instance and train data points\n",
    "    distance = []\n",
    "    for i in range(train.shape[0]):\n",
    "        dist = euclidean_distance(train[i], test_instance)\n",
    "        distance.append((i,dist))\n",
    "    \n",
    "    # select the top k data points based on smallest distance and return their index\n",
    "    distance.sort(key=lambda x: x[1])\n",
    "    nearest_index = []\n",
    "    for i in range(neighbors):\n",
    "        nearest_index.append(distance[i][0])\n",
    "        \n",
    "    return nearest_index"
   ]
  },
  {
   "cell_type": "markdown",
   "metadata": {},
   "source": [
    "### Prediction"
   ]
  },
  {
   "cell_type": "code",
   "execution_count": 10,
   "metadata": {},
   "outputs": [],
   "source": [
    "def predictClassifier(X_train, y_train, test_instance, neighbors):\n",
    "    nearest_index = get_neighbors(X_train, test_instance, neighbors)\n",
    "    votes = Counter(y_train[nearest_index])\n",
    "    \n",
    "    # find the most common label\n",
    "    vote = sorted(votes.items(), key=lambda x: x[1], reverse=True)[0][0]\n",
    "    \n",
    "    return vote"
   ]
  },
  {
   "cell_type": "code",
   "execution_count": 11,
   "metadata": {},
   "outputs": [],
   "source": [
    "def predict(X_test, X_train):\n",
    "    votes = []\n",
    "    for i in range(X_test.shape[0]):\n",
    "        test_instance = X_test[i]\n",
    "        votes.append(predictClassifier(X_train, y_train, test_instance, 5))\n",
    "        \n",
    "    return votes"
   ]
  },
  {
   "cell_type": "markdown",
   "metadata": {},
   "source": [
    "### Evaluation metric : Accuracy"
   ]
  },
  {
   "cell_type": "code",
   "execution_count": 12,
   "metadata": {},
   "outputs": [
    {
     "data": {
      "text/plain": [
       "1.0"
      ]
     },
     "execution_count": 12,
     "metadata": {},
     "output_type": "execute_result"
    }
   ],
   "source": [
    "def accuracy():\n",
    "    return np.sum(np.equal(y_test, predict(X_test, X_train)))/y_test.shape[0]\n",
    "\n",
    "accuracy()"
   ]
  },
  {
   "cell_type": "markdown",
   "metadata": {},
   "source": [
    "## 2. k-NN Regression\n",
    "\n",
    "### Modeling steps:\n",
    "- The only difference in classification and regression is that the later one returns the prediction as the mean of k-nearest data points.\n",
    "- Evaluate with MSE using the testing data."
   ]
  },
  {
   "cell_type": "markdown",
   "metadata": {},
   "source": [
    "Working with boston data to predict the housing price."
   ]
  },
  {
   "cell_type": "code",
   "execution_count": 44,
   "metadata": {},
   "outputs": [],
   "source": [
    "from sklearn.datasets import load_boston\n",
    "boston = load_boston()"
   ]
  },
  {
   "cell_type": "code",
   "execution_count": 45,
   "metadata": {},
   "outputs": [],
   "source": [
    "X = boston.data\n",
    "y = boston.target"
   ]
  },
  {
   "cell_type": "code",
   "execution_count": 43,
   "metadata": {},
   "outputs": [],
   "source": [
    "# descriptiona about boston data set\n",
    "# print(boston.DESCR)"
   ]
  },
  {
   "cell_type": "code",
   "execution_count": 46,
   "metadata": {},
   "outputs": [],
   "source": [
    "# split into 70:30 ratio\n",
    "X_train, X_test, y_train, y_test = train_test_split(X, y, test_size=0.3 ,random_state=42)\n",
    "\n",
    "ss = StandardScaler()\n",
    "X_train = ss.fit_transform(X_train)\n",
    "X_test = ss.transform(X_test)"
   ]
  },
  {
   "cell_type": "code",
   "execution_count": 47,
   "metadata": {},
   "outputs": [],
   "source": [
    "def predictRegressor(X_train, y_train, test_instance, neighbors):\n",
    "    nearest_index = get_neighbors(X_train, test_instance, neighbors)\n",
    "    avg = np.mean(y_train[nearest_index])\n",
    "    \n",
    "    return avg"
   ]
  },
  {
   "cell_type": "code",
   "execution_count": 48,
   "metadata": {},
   "outputs": [],
   "source": [
    "def predict(X_test, X_train):\n",
    "    votes = []\n",
    "    for i in range(X_test.shape[0]):\n",
    "        test_instance = X_test[i]\n",
    "        votes.append(predictRegressor(X_train, y_train, test_instance, 5))\n",
    "        \n",
    "    return np.array(votes)"
   ]
  },
  {
   "cell_type": "code",
   "execution_count": 49,
   "metadata": {},
   "outputs": [],
   "source": [
    "# evaluation metric\n",
    "def rmse(y_test, prediction):\n",
    "    return round(np.sqrt(np.mean((y_test-prediction)**2)),4)"
   ]
  },
  {
   "cell_type": "code",
   "execution_count": 50,
   "metadata": {},
   "outputs": [
    {
     "data": {
      "text/plain": [
       "4.3399"
      ]
     },
     "execution_count": 50,
     "metadata": {},
     "output_type": "execute_result"
    }
   ],
   "source": [
    "rmse(y_test, predict(X_test, X_train))"
   ]
  },
  {
   "cell_type": "markdown",
   "metadata": {},
   "source": [
    "### Comparing our model with sklearn model"
   ]
  },
  {
   "cell_type": "code",
   "execution_count": 51,
   "metadata": {},
   "outputs": [],
   "source": [
    "class kNN():\n",
    "    def __init__(self, n_neighbors):\n",
    "        self.n_neighbors = n_neighbors\n",
    "        \n",
    "    def euclidean_distance(self, data1, data2):\n",
    "        return np.sqrt(np.sum((data1-data2)**2))\n",
    "\n",
    "    def get_neighbors(self, test_instance):\n",
    "        distance = []\n",
    "        for i in range(self.train.shape[0]):\n",
    "            dist = self.euclidean_distance(self.train[i], test_instance)\n",
    "            distance.append((i,dist))\n",
    "    \n",
    "        distance.sort(key=lambda x: x[1])\n",
    "        nearest_index = []\n",
    "        for i in range(self.n_neighbors):\n",
    "            nearest_index.append(distance[i][0])\n",
    "        \n",
    "        return nearest_index\n",
    "    \n",
    "    def fit(self, x_train, y_train):\n",
    "        self.train = x_train\n",
    "        self.target = y_train\n",
    "    "
   ]
  },
  {
   "cell_type": "code",
   "execution_count": 52,
   "metadata": {},
   "outputs": [],
   "source": [
    "class kNN_Classifier(kNN):\n",
    "    \n",
    "    def predictClassifier(self, test_instance):\n",
    "        nearest_index = self.get_neighbors(test_instance)\n",
    "        votes = Counter(self.target[nearest_index])\n",
    "        vote = sorted(votes.items(), key=lambda x: x[1], reverse=True)[0][0]\n",
    "    \n",
    "        return vote\n",
    "\n",
    "    def predict(self, X_test):\n",
    "        votes = []\n",
    "        for i in range(X_test.shape[0]):\n",
    "            test_instance = X_test[i]\n",
    "            votes.append(self.predictClassifier(test_instance))\n",
    "        \n",
    "        return votes\n",
    "\n",
    "    def accuracy(self, y_target, prediction):\n",
    "        return np.sum(np.equal(y_target, prediction))/y_target.shape[0]\n",
    "\n",
    "    "
   ]
  },
  {
   "cell_type": "code",
   "execution_count": 53,
   "metadata": {},
   "outputs": [],
   "source": [
    "class kNN_Regressor(kNN):\n",
    "    \n",
    "    def predictRegressor(self, test_instance):\n",
    "        nearest_index = self.get_neighbors(test_instance)\n",
    "        avg = np.mean(self.target[nearest_index])\n",
    "    \n",
    "        return avg\n",
    "\n",
    "    def predict(self, X_test):\n",
    "        votes = []\n",
    "        for i in range(X_test.shape[0]):\n",
    "            test_instance = X_test[i]\n",
    "            votes.append(self.predictRegressor(test_instance))\n",
    "        \n",
    "        return np.array(votes)\n",
    "\n",
    "    def rmse(self, y_test, prediction):\n",
    "        return round(np.sqrt(np.mean((y_test-prediction)**2)),4)\n",
    "    "
   ]
  },
  {
   "cell_type": "markdown",
   "metadata": {},
   "source": [
    "### Classification comparision"
   ]
  },
  {
   "cell_type": "code",
   "execution_count": 74,
   "metadata": {},
   "outputs": [],
   "source": [
    "# fetch the data\n",
    "X = np.array(iris_df.loc[:,column_names])\n",
    "y = np.array(iris_df.target)\n",
    "X_train, X_test, y_train, y_test = train_test_split(X, y, test_size=0.3, random_state=42)\n",
    "\n",
    "# feature-scaling\n",
    "ss = StandardScaler()\n",
    "X_train = ss.fit_transform(X_train)\n",
    "X_test = ss.transform(X_test)"
   ]
  },
  {
   "cell_type": "markdown",
   "metadata": {},
   "source": [
    "**sklearn KNeighborsClassifier** vs our model **kNN_Classifier**"
   ]
  },
  {
   "cell_type": "code",
   "execution_count": 75,
   "metadata": {},
   "outputs": [
    {
     "data": {
      "text/plain": [
       "1.0"
      ]
     },
     "execution_count": 75,
     "metadata": {},
     "output_type": "execute_result"
    }
   ],
   "source": [
    "clf_1 = KNeighborsClassifier(n_neighbors=5)\n",
    "clf_1.fit(X_train, y_train)\n",
    "pred = clf_1.predict(X_test)\n",
    "accuracy_score(y_test, pred)"
   ]
  },
  {
   "cell_type": "code",
   "execution_count": 92,
   "metadata": {},
   "outputs": [
    {
     "data": {
      "text/plain": [
       "1.0"
      ]
     },
     "execution_count": 92,
     "metadata": {},
     "output_type": "execute_result"
    }
   ],
   "source": [
    "knn_c = kNN_Classifier(5)\n",
    "knn_c.fit(X_train, y_train) \n",
    "prediction = knn_c.predict(X_test)\n",
    "knn_c.accuracy(y_test, prediction)"
   ]
  },
  {
   "cell_type": "markdown",
   "metadata": {},
   "source": [
    "*** Model performace as k value increases ***"
   ]
  },
  {
   "cell_type": "code",
   "execution_count": 93,
   "metadata": {},
   "outputs": [],
   "source": [
    "score = []\n",
    "for k in range(1,X_train.shape[0]):\n",
    "    knn_c = kNN_Classifier(k)\n",
    "    knn_c.fit(X_train, y_train) \n",
    "    prediction = knn_c.predict(X_test)\n",
    "    score.append(knn_c.accuracy(y_test, prediction))\n",
    "    "
   ]
  },
  {
   "cell_type": "code",
   "execution_count": 101,
   "metadata": {},
   "outputs": [
    {
     "data": {
      "image/png": "[encoded data removed]",
      "text/plain": [
       "<Figure size 576x432 with 1 Axes>"
      ]
     },
     "metadata": {},
     "output_type": "display_data"
    }
   ],
   "source": [
    "plt.figure(figsize=(8, 6))\n",
    "plt.plot(range(1,X_train.shape[0]),score)\n",
    "plt.xlabel('k (neighbors)')\n",
    "plt.grid()\n",
    "plt.ylabel('Accuracy');"
   ]
  },
  {
   "cell_type": "markdown",
   "metadata": {},
   "source": [
    "The above plot signifies as the value of k increases the performance of the model deteriorates after 25 neighbors. k from 1 to 20 gives an accuracy of 1."
   ]
  },
  {
   "cell_type": "markdown",
   "metadata": {},
   "source": [
    "### Regression comparision"
   ]
  },
  {
   "cell_type": "code",
   "execution_count": 102,
   "metadata": {},
   "outputs": [],
   "source": [
    "# data\n",
    "X = boston.data\n",
    "y = boston.target\n",
    "X_train, X_test, y_train, y_test = train_test_split(X, y, test_size=0.3 ,random_state=42)\n",
    "\n",
    "# feature-scaling\n",
    "mms = MinMaxScaler()\n",
    "X_train = mms.fit_transform(X_train)\n",
    "X_test = mms.transform(X_test)"
   ]
  },
  {
   "cell_type": "markdown",
   "metadata": {},
   "source": [
    "**sklearn KNeighborsRegressor** vs our model **kNN_Regressor**"
   ]
  },
  {
   "cell_type": "code",
   "execution_count": 103,
   "metadata": {},
   "outputs": [
    {
     "data": {
      "text/plain": [
       "4.6671"
      ]
     },
     "execution_count": 103,
     "metadata": {},
     "output_type": "execute_result"
    }
   ],
   "source": [
    "clf_2 = KNeighborsRegressor(n_neighbors=5)\n",
    "clf_2.fit(X_train, y_train)\n",
    "pred = clf_2.predict(X_test)\n",
    "round(np.sqrt(mean_squared_error(y_test,pred)),4)"
   ]
  },
  {
   "cell_type": "code",
   "execution_count": 104,
   "metadata": {},
   "outputs": [
    {
     "data": {
      "text/plain": [
       "4.6671"
      ]
     },
     "execution_count": 104,
     "metadata": {},
     "output_type": "execute_result"
    }
   ],
   "source": [
    "knn_r = kNN_Regressor(5)\n",
    "knn_r.fit(X_train, y_train) \n",
    "prediction = knn_r.predict(X_test)\n",
    "knn_r.rmse(y_test, prediction)"
   ]
  },
  {
   "cell_type": "markdown",
   "metadata": {},
   "source": [
    "**Regression model performace with increasing k**"
   ]
  },
  {
   "cell_type": "code",
   "execution_count": 107,
   "metadata": {},
   "outputs": [],
   "source": [
    "score = []\n",
    "for k in range(1,X_train.shape[0]):\n",
    "    knn_r = kNN_Regressor(k)\n",
    "    knn_r.fit(X_train, y_train) \n",
    "    prediction = knn_r.predict(X_test)\n",
    "    score.append(knn_r.rmse(y_test, prediction))"
   ]
  },
  {
   "cell_type": "code",
   "execution_count": 108,
   "metadata": {
    "scrolled": false
   },
   "outputs": [
    {
     "data": {
      "image/png": "[encoded data removed]",
      "text/plain": [
       "<Figure size 576x432 with 1 Axes>"
      ]
     },
     "metadata": {},
     "output_type": "display_data"
    }
   ],
   "source": [
    "plt.figure(figsize=(8, 6))\n",
    "plt.plot(range(1,X_train.shape[0]),score)\n",
    "plt.xlabel('k (neighbors)')\n",
    "plt.grid()\n",
    "plt.ylabel('RMSE');"
   ]
  },
  {
   "cell_type": "markdown",
   "metadata": {},
   "source": [
    "Lower k values gives less rmse suggesting we must choose smaller k."
   ]
  },
  {
   "cell_type": "markdown",
   "metadata": {},
   "source": [
    "**Both our models perform equally well like sklearn models.**"
   ]
  },
  {
   "cell_type": "markdown",
   "metadata": {},
   "source": [
    "### How does the boundary change as k increases?"
   ]
  },
  {
   "cell_type": "code",
   "execution_count": 127,
   "metadata": {
    "scrolled": false
   },
   "outputs": [
    {
     "data": {
      "image/png": "[encoded data removed]",
      "text/plain": [
       "<Figure size 432x288 with 1 Axes>"
      ]
     },
     "metadata": {},
     "output_type": "display_data"
    },
    {
     "data": {
      "image/png": "[encoded data removed]",
      "text/plain": [
       "<Figure size 432x288 with 1 Axes>"
      ]
     },
     "metadata": {},
     "output_type": "display_data"
    },
    {
     "data": {
      "image/png": "[encoded data removed]",
      "text/plain": [
       "<Figure size 432x288 with 1 Axes>"
      ]
     },
     "metadata": {},
     "output_type": "display_data"
    },
    {
     "data": {
      "image/png": "[encoded data removed]",
      "text/plain": [
       "<Figure size 432x288 with 1 Axes>"
      ]
     },
     "metadata": {},
     "output_type": "display_data"
    }
   ],
   "source": [
    "from matplotlib.colors import ListedColormap\n",
    "from sklearn import neighbors, datasets\n",
    "\n",
    "#plt.figure(figsize=(8,6))\n",
    "\n",
    "n_neighbors = [1,10,20,40]\n",
    "\n",
    "# we only take the first two features to plot\n",
    "X = data.data[:, :2]\n",
    "y = data.target\n",
    "\n",
    "ss = StandardScaler()\n",
    "X = ss.fit_transform(X)\n",
    "#X_test = ss.transform(X_test)\n",
    "\n",
    "h = .02  # step size in the mesh\n",
    "\n",
    "# Create color maps\n",
    "cmap_light = ListedColormap(['#FFAAAA', '#AAFFAA', '#AAAAFF'])\n",
    "cmap_bold = ListedColormap(['#FF0000', '#00FF00', '#0000FF'])\n",
    "\n",
    "for n in n_neighbors:\n",
    "    clf = KNeighborsClassifier(n)\n",
    "    clf.fit(X, y)\n",
    "    \n",
    "    x_min, x_max = X[:, 0].min() - 1, X[:, 0].max() + 1\n",
    "    y_min, y_max = X[:, 1].min() - 1, X[:, 1].max() + 1\n",
    "    xx, yy = np.meshgrid(np.arange(x_min, x_max, h), np.arange(y_min, y_max, h))\n",
    "    Z = clf.predict(np.c_[xx.ravel(), yy.ravel()])\n",
    "\n",
    "    # Put the result into a color plot\n",
    "    Z = Z.reshape(xx.shape)\n",
    "    plt.figure()\n",
    "    plt.pcolormesh(xx, yy, Z, cmap=cmap_light)\n",
    "\n",
    "    # Plot also the training points\n",
    "    plt.scatter(X[:, 0], X[:, 1], c=y, cmap=cmap_bold, edgecolor='k', s=20)\n",
    "    plt.xlim(xx.min(), xx.max())\n",
    "    plt.ylim(yy.min(), yy.max())\n",
    "    plt.title(f\"3-Class classification : k = {n}\")\n",
    "\n",
    "plt.show();"
   ]
  },
  {
   "cell_type": "markdown",
   "metadata": {},
   "source": [
    "With k=1, the model predicts the closest instance as the prediction class and overfits the data. With increasing k we can see, the model is able to define clear boundaries between separate classes. But as the k increases big enough the classes are not well separated and predicts with a bad accuracy."
   ]
  },
  {
   "cell_type": "markdown",
   "metadata": {},
   "source": [
    "## Conclusion"
   ]
  },
  {
   "cell_type": "markdown",
   "metadata": {},
   "source": [
    "**Pros of k-NN**\n",
    "- Simple and easy to apply and interpret\n",
    "- Useful for ill-tempered data as it does not make any assumptions about distribution of data.\n",
    "- No training "
   ]
  },
  {
   "cell_type": "markdown",
   "metadata": {},
   "source": [
    "**Cons of k-NN**\n",
    "- High memory requirement - stores all of the data\n",
    "- Computationally expensive - must compute all distances\n",
    "- Sensitive to irrelevant features and the feature scaling"
   ]
  },
  {
   "cell_type": "markdown",
   "metadata": {},
   "source": [
    "**k has to be a postive integer.**"
   ]
  },
  {
   "cell_type": "markdown",
   "metadata": {},
   "source": [
    "**What is optimal value for k?**<br>\n",
    "If number of classes is even, pick k to be odd to prevent ties. <br>\n",
    "If number classes is odd, pick k to be even to lessen the chances of ties.<br>"
   ]
  }
 ],
 "metadata": {
  "kernelspec": {
   "display_name": "Python 3",
   "language": "python",
   "name": "python3"
  },
  "language_info": {
   "codemirror_mode": {
    "name": "ipython",
    "version": 3
   },
   "file_extension": ".py",
   "mimetype": "text/x-python",
   "name": "python",
   "nbconvert_exporter": "python",
   "pygments_lexer": "ipython3",
   "version": "3.6.5"
  }
 },
 "nbformat": 4,
 "nbformat_minor": 2
}
